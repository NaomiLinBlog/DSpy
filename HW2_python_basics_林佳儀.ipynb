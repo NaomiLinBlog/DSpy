{
  "nbformat": 4,
  "nbformat_minor": 0,
  "metadata": {
    "colab": {
      "provenance": [],
      "authorship_tag": "ABX9TyMRddkTWjZXwVU2aOW+ZMtX",
      "include_colab_link": true
    },
    "kernelspec": {
      "name": "python3",
      "display_name": "Python 3"
    },
    "language_info": {
      "name": "python"
    }
  },
  "cells": [
    {
      "cell_type": "markdown",
      "metadata": {
        "id": "view-in-github",
        "colab_type": "text"
      },
      "source": [
        "<a href=\"https://colab.research.google.com/github/NaomiLinBlog/DSpy/blob/main/HW2_python_basics_%E6%9E%97%E4%BD%B3%E5%84%80.ipynb\" target=\"_parent\"><img src=\"https://colab.research.google.com/assets/colab-badge.svg\" alt=\"Open In Colab\"/></a>"
      ]
    },
    {
      "cell_type": "code",
      "execution_count": null,
      "metadata": {
        "id": "FABlyh0Hr_rH",
        "outputId": "442a22ad-7ff7-47fa-cdfa-c63de032fe31",
        "colab": {
          "base_uri": "https://localhost:8080/"
        }
      },
      "outputs": [
        {
          "output_type": "stream",
          "name": "stdout",
          "text": [
            "總和: 150\n",
            "平均值: 30.0\n",
            "平方數: [100, 400, 900, 1600, 2500]\n"
          ]
        }
      ],
      "source": [
        "#1-1.請定義一個名為 numbers 的list，其中包含以下數值：10, 20, 30, 40, 50\n",
        "numbers = [10, 20, 30, 40, 50]\n",
        "\n",
        "#1-2.計算以下兩個數值：total、average\n",
        "total = sum(numbers)\n",
        "average = total/len(numbers)\n",
        "\n",
        "#1-3.建立一個新的list叫 squared_numbers ，其中包含 numbers 中每個數字的平方\n",
        "squared_numbers = []\n",
        "for i in numbers:\n",
        "  squared_numbers.append(i**2)\n",
        "\n",
        "#1-4.使用 print 將結果印出來：\n",
        "print(\"總和:\", total)\n",
        "print(\"平均值:\", average)\n",
        "print(\"平方數:\", squared_numbers)\n"
      ]
    },
    {
      "cell_type": "code",
      "source": [
        "asian_countries = {\n",
        "    'Taiwan': 'Taipei',\n",
        "    'Japan': 'Kyoto',\n",
        "    'South Korea': 'Seoul',\n",
        "    'India': 'New Delhi',\n",
        "    'Germany': 'Berlin'\n",
        "    }\n",
        "#2-1.將 asian_countries 印出來：\n",
        "print('舊字典:', asian_countries)\n",
        "\n",
        "#2-2-1.將Japan的首都更正為Tokyo\n",
        "asian_countries['Japan'] = 'Tokyo'\n",
        "\n",
        "#2-2-2.將Germany從字典中刪掉\n",
        "del asian_countries['Germany']\n",
        "\n",
        "#2-2-3.將Vietnam及其首都Hanoi新增到字典中\n",
        "asian_countries['Vietnam'] = 'Hanoi'\n",
        "\n",
        "#2-2-4.將更新後的字典印出來 ：\n",
        "print('新字典:', asian_countries)\n",
        "\n",
        "#2-3.將國家按照字母排序，並將排序後的結果指派給一個變數 sorted_asian_countries\n",
        "sorted_asian_countries = dict(sorted(asian_countries.items()))\n",
        "\n",
        "#2-4.將 sorted_asian_countries 中的每個key:value pair印出來\n",
        "print('排序新字典:', sorted_asian_countries)\n"
      ],
      "metadata": {
        "id": "ZqckmmFM3AEr",
        "outputId": "7b89589e-c1fb-41cd-da8b-19b60c2719b5",
        "colab": {
          "base_uri": "https://localhost:8080/"
        }
      },
      "execution_count": null,
      "outputs": [
        {
          "output_type": "stream",
          "name": "stdout",
          "text": [
            "舊字典: {'Taiwan': 'Taipei', 'Japan': 'Kyoto', 'South Korea': 'Seoul', 'India': 'New Delhi', 'Germany': 'Berlin'}\n",
            "新字典: {'Taiwan': 'Taipei', 'Japan': 'Tokyo', 'South Korea': 'Seoul', 'India': 'New Delhi', 'Vietnam': 'Hanoi'}\n",
            "排序新字典: {'India': 'New Delhi', 'Japan': 'Tokyo', 'South Korea': 'Seoul', 'Taiwan': 'Taipei', 'Vietnam': 'Hanoi'}\n"
          ]
        }
      ]
    },
    {
      "cell_type": "code",
      "source": [
        "mixed_list = [7, 2.6, \"3\", \"4.5\", \"five\", 18]\n",
        "\n",
        "#3-1.請找出 mixed_list 中所有的整數，將結果儲存到一個list int_list 並印出來\n",
        "int_list = []\n",
        "\n",
        "for i in mixed_list:\n",
        "  if isinstance(i, int):\n",
        "    int_list.append(i)\n",
        "\n",
        "print(int_list)\n",
        "\n",
        "#3-2.將 int_list 中的整數轉換為字串，將結果儲存到新的list str_list 並印出來\n",
        "str_list = []\n",
        "\n",
        "for i in int_list:\n",
        "    str_list.append(str(i))\n",
        "\n",
        "print(str_list)\n",
        "\n",
        "#3-3.將 str_list 中所有元素的資料類型分別印出來。\n",
        "for i in str_list:\n",
        "    print(type(i))"
      ],
      "metadata": {
        "id": "YEX7cSvM-LdW",
        "outputId": "de723b1d-b809-4a59-e4fe-1810544a4c87",
        "colab": {
          "base_uri": "https://localhost:8080/"
        }
      },
      "execution_count": null,
      "outputs": [
        {
          "output_type": "stream",
          "name": "stdout",
          "text": [
            "[7, 18]\n",
            "['7', '18']\n",
            "<class 'str'>\n",
            "<class 'str'>\n"
          ]
        }
      ]
    },
    {
      "cell_type": "code",
      "source": [
        "# Bonus\n",
        "lyrics = \"欸嗚欸嗚欸欸 嗚嗚嗚喔喔 咦耶咦耶欸 嗚嗚嗚喔喔 咦耶咦耶欸 嗚喔喔 喔 欸嗚欸嗚欸欸 嗚嗚嗚喔喔 咦耶咦耶欸 嗚嗚嗚喔喔 咦耶嘿 嗚喔喔喔\"\n",
        "\n",
        "# 使用set記錄不同的字（不包括空格）\n",
        "unique_chars = set(lyrics.replace(\" \", \"\"))\n",
        "\n",
        "# 計算總數\n",
        "total_chars = len(lyrics.replace(\" \", \"\"))\n",
        "\n",
        "# 輸出结果\n",
        "print(f\"這段歌詞共有{len(unique_chars)}個Type（不包括空格）和{total_chars}個token（不包括空格）。\")\n"
      ],
      "metadata": {
        "id": "B7CCFcGSGQAG",
        "outputId": "320b712c-d22a-486d-956e-64abf4e00096",
        "colab": {
          "base_uri": "https://localhost:8080/"
        }
      },
      "execution_count": 1,
      "outputs": [
        {
          "output_type": "stream",
          "name": "stdout",
          "text": [
            "這段歌詞共有6個Type（不包括空格）和58個token（不包括空格）。\n"
          ]
        }
      ]
    }
  ]
}