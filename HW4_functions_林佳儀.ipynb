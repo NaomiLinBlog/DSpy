{
  "nbformat": 4,
  "nbformat_minor": 0,
  "metadata": {
    "colab": {
      "provenance": [],
      "authorship_tag": "ABX9TyO98TIPIWpccPBeUA5Oz6+u",
      "include_colab_link": true
    },
    "kernelspec": {
      "name": "python3",
      "display_name": "Python 3"
    },
    "language_info": {
      "name": "python"
    }
  },
  "cells": [
    {
      "cell_type": "markdown",
      "metadata": {
        "id": "view-in-github",
        "colab_type": "text"
      },
      "source": [
        "<a href=\"https://colab.research.google.com/github/NaomiLinBlog/DSpy/blob/main/HW4_functions_%E6%9E%97%E4%BD%B3%E5%84%80.ipynb\" target=\"_parent\"><img src=\"https://colab.research.google.com/assets/colab-badge.svg\" alt=\"Open In Colab\"/></a>"
      ]
    },
    {
      "cell_type": "code",
      "execution_count": null,
      "metadata": {
        "colab": {
          "base_uri": "https://localhost:8080/"
        },
        "id": "RuYGIlczt7d-",
        "outputId": "8c2056ce-66d0-4658-dcc3-d7f90b2cd745"
      },
      "outputs": [
        {
          "output_type": "stream",
          "name": "stdout",
          "text": [
            "現在的時間: 2023-10-14 20:36:23\n",
            "晚安, 烏西蒂西!\n"
          ]
        }
      ],
      "source": [
        "import datetime\n",
        "\n",
        "def greetings(name):\n",
        "    # 設定時區為UTC+8（台北時間）\n",
        "    tpe_timezone = datetime.timezone(datetime.timedelta(hours=8))\n",
        "\n",
        "    # 取得當前時間\n",
        "    current_time = datetime.datetime.now(tpe_timezone)\n",
        "\n",
        "    # 將時間格式化「YYYY-MM-DD HH:MM:SS」\n",
        "    formatted_time = current_time.strftime(\"%Y-%m-%d %H:%M:%S\")\n",
        "\n",
        "    # 根據時間回傳問候語\n",
        "    if 12 > current_time.hour >= 5:\n",
        "        greeting = \"早安\"\n",
        "    elif 18 > current_time.hour >= 12:\n",
        "        greeting = \"午安\"\n",
        "    else:\n",
        "        greeting = \"晚安\"\n",
        "\n",
        "    # 回傳問候語和名字\n",
        "    return f\"現在的時間: {formatted_time}\\n{greeting}, {name}!\"\n",
        "\n",
        "# 測試\n",
        "name = \"烏西蒂西\"\n",
        "greeting_message = greetings(name)\n",
        "print(greeting_message)\n"
      ]
    },
    {
      "cell_type": "code",
      "source": [
        "def count_chicken_rabbit(heads, feet):\n",
        "\n",
        "  if heads <= 0 or feet <= 0 or feet%2 != 0:\n",
        "    return '無效輸入'\n",
        "\n",
        "  # heads = x + y\n",
        "  # 2*heads = 2*x + 2*y\n",
        "  # feet = 2*x + 4*y\n",
        "\n",
        "  # 計算兔有幾隻，若不合理回傳'無解'\n",
        "  y = int((feet - 2*heads)/2) if (feet - 2*heads)%2 == 0 else -1\n",
        "\n",
        "  # 計算雞有幾隻\n",
        "  x = int(heads - y)\n",
        "\n",
        "  if x >= 0 and y >= 0:\n",
        "    return f\"{x}隻雞, {y}隻兔\"\n",
        "  else:\n",
        "    return '無解'\n",
        "\n",
        "\n",
        "# 請計算以下雞和兔的數量並印出來：\n",
        "result1 = count_chicken_rabbit(35, 94)\n",
        "result2 = count_chicken_rabbit(17, 37)\n",
        "result3 = count_chicken_rabbit(1, 50)\n",
        "\n",
        "print(result1)\n",
        "print(result2)\n",
        "print(result3)"
      ],
      "metadata": {
        "colab": {
          "base_uri": "https://localhost:8080/"
        },
        "id": "a1mb_ni1MM18",
        "outputId": "8fe5ba5a-8112-4141-9838-64642d5108f0"
      },
      "execution_count": null,
      "outputs": [
        {
          "output_type": "stream",
          "name": "stdout",
          "text": [
            "23隻雞, 12隻兔\n",
            "無效輸入\n",
            "無解\n"
          ]
        }
      ]
    },
    {
      "cell_type": "code",
      "source": [
        "import re\n",
        "\n",
        "def check_password(password):\n",
        "  requirements = {\n",
        "      \"length\": len(password) >= 8,\n",
        "      \"uppercase\": bool(re.search(r\"[A-Z]\", password)),\n",
        "      \"lowercase\": bool(re.search(r\"[a-z]\", password)),\n",
        "      \"digit\": bool(re.search(r\"\\d\", password)),\n",
        "      \"special_char\": bool(re.search(r\"[!@#$%^&*()_+{}\\[\\]:;<>,.?~\\\\/-]\", password))\n",
        "  }\n",
        "\n",
        "  # 計算不符合條件的數量\n",
        "  count = 0\n",
        "  for requirement in requirements.values():\n",
        "    if not requirement:\n",
        "      count += 1\n",
        "\n",
        "  if count == 0:\n",
        "    return \"高強度：密碼滿足所有條件\"\n",
        "  else:\n",
        "    messages = []\n",
        "    if not requirements[\"length\"]:\n",
        "      messages.append(\"密碼長度應至少為 8 個字符\")\n",
        "    if not requirements[\"uppercase\"]:\n",
        "      messages.append(\"密碼應包含至少一個大寫字母\")\n",
        "    if not requirements[\"lowercase\"]:\n",
        "      messages.append(\"密碼應包含至少一個小寫字母\")\n",
        "    if not requirements[\"digit\"]:\n",
        "      messages.append(\"密碼應包含至少一個數字\")\n",
        "    if not requirements[\"special_char\"]:\n",
        "      messages.append(\"密碼應包含至少一個特殊字符\")\n",
        "\n",
        "  return f\"低強度：{'，'.join(messages)}\\n不符合條件的數量：{count}\"\n",
        "\n",
        "# 測試密碼強度\n",
        "password1 = \"p@ssW0rd\"\n",
        "password2 = \"dspy112-1\"\n",
        "\n",
        "strength1 = check_password(password1)\n",
        "strength2 = check_password(password2)\n",
        "\n",
        "print(\"密碼: \", password1)\n",
        "print(strength1)\n",
        "print(\"密碼: \", password2)\n",
        "print(strength2)\n"
      ],
      "metadata": {
        "colab": {
          "base_uri": "https://localhost:8080/"
        },
        "id": "HoFufNlid8rd",
        "outputId": "6de52569-1988-4329-b2e0-e77ab09559c9"
      },
      "execution_count": null,
      "outputs": [
        {
          "output_type": "stream",
          "name": "stdout",
          "text": [
            "密碼:  p@ssW0rd\n",
            "高強度：密碼滿足所有條件\n",
            "密碼:  dspy112-1\n",
            "低強度：密碼應包含至少一個大寫字母\n",
            "不符合條件的數量：1\n"
          ]
        }
      ]
    },
    {
      "cell_type": "code",
      "source": [
        "import re\n",
        "\n",
        "def check_password(password):\n",
        "    requirements = {\n",
        "        \"length\": len(password) >= 8,\n",
        "        \"uppercase\": bool(re.search(r\"[A-Z]\", password)),\n",
        "        \"lowercase\": bool(re.search(r\"[a-z]\", password)),\n",
        "        \"digit\": bool(re.search(r\"\\d\", password)),\n",
        "        \"special_char\": bool(re.search(r\"[!@#$%^&*()_+{}\\[\\]:;<>,.?~\\\\/-]\", password)),\n",
        "        \"none_sequential\": True\n",
        "    }\n",
        "\n",
        "    # 檢查連續字符\n",
        "    for i in range(len(password) - 1):\n",
        "        char1 = password[i]\n",
        "        char2 = password[i + 1]\n",
        "        if abs(ord(char1) - ord(char2)) == 1:\n",
        "            requirements[\"none_sequential\"] = False\n",
        "            break\n",
        "\n",
        "    # 計算不符合條件的數量\n",
        "    count = 0\n",
        "    for requirement in requirements.values():\n",
        "        if not requirement:\n",
        "            count += 1\n",
        "\n",
        "    if count == 0:\n",
        "        return \"高強度：密碼滿足所有條件\"\n",
        "    else:\n",
        "        messages = []\n",
        "        if not requirements[\"length\"]:\n",
        "            messages.append(\"密碼長度應至少為 8 個字符\")\n",
        "        if not requirements[\"uppercase\"]:\n",
        "            messages.append(\"密碼應包含至少一個大寫字母\")\n",
        "        if not requirements[\"lowercase\"]:\n",
        "            messages.append(\"密碼應包含至少一個小寫字母\")\n",
        "        if not requirements[\"digit\"]:\n",
        "            messages.append(\"密碼應包含至少一個數字\")\n",
        "        if not requirements[\"special_char\"]:\n",
        "            messages.append(\"密碼應包含至少一個特殊字符\")\n",
        "        if not requirements[\"none_sequential\"]:\n",
        "            messages.append(\"密碼不應包含連續字符\")\n",
        "\n",
        "        return f\"低強度：{'，'.join(messages)}\\n不符合條件的數量：{count}\"\n",
        "\n",
        "# 測試密碼強度，包括連續字符的情況\n",
        "password1 = \"abckauKAti\"\n",
        "\n",
        "strength1 = check_password(password1)\n",
        "strength2 = check_password(password2)\n",
        "\n",
        "print(\"密碼: \", password1)\n",
        "print(strength1)"
      ],
      "metadata": {
        "colab": {
          "base_uri": "https://localhost:8080/"
        },
        "id": "AxWMjb95msja",
        "outputId": "99267e5a-5d6d-48dd-dded-1da74311e362"
      },
      "execution_count": null,
      "outputs": [
        {
          "output_type": "stream",
          "name": "stdout",
          "text": [
            "密碼:  abckauKAti\n",
            "低強度：密碼應包含至少一個數字，密碼應包含至少一個特殊字符，密碼不應包含連續字符\n",
            "不符合條件的數量：3\n"
          ]
        }
      ]
    }
  ]
}