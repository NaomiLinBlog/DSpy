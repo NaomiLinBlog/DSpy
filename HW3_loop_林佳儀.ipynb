{
  "nbformat": 4,
  "nbformat_minor": 0,
  "metadata": {
    "colab": {
      "provenance": [],
      "authorship_tag": "ABX9TyN2Sh3D6AW3uIEGMD/fNfZv",
      "include_colab_link": true
    },
    "kernelspec": {
      "name": "python3",
      "display_name": "Python 3"
    },
    "language_info": {
      "name": "python"
    }
  },
  "cells": [
    {
      "cell_type": "markdown",
      "metadata": {
        "id": "view-in-github",
        "colab_type": "text"
      },
      "source": [
        "<a href=\"https://colab.research.google.com/github/NaomiLinBlog/DSpy/blob/main/HW3_loop_%E6%9E%97%E4%BD%B3%E5%84%80.ipynb\" target=\"_parent\"><img src=\"https://colab.research.google.com/assets/colab-badge.svg\" alt=\"Open In Colab\"/></a>"
      ]
    },
    {
      "cell_type": "code",
      "source": [
        "#1: 創建字典\n",
        "grades = {\n",
        "    \"Richard\": [60, 0, 45, -1],\n",
        "    \"Una\": [100, 99, 101, 100],\n",
        "    \"Linda\": [99, 100, 99, 100],\n",
        "    \"Shu-Kai\": [1000, 1000, 1000, 1000]\n",
        "}\n",
        "\n",
        "#2: 使用 for 迴圈遍歷字典\n",
        "for name, score in grades.items():\n",
        "\n",
        "  #3: 計算成績統計資訊並列印\n",
        "  lowest_grade = min(score)\n",
        "  highest_grade = max(score)\n",
        "  average_grade = sum(score) / len(score)\n",
        "\n",
        "  print(\"姓名: \", name)\n",
        "  print(\"最低分數: \", lowest_grade)\n",
        "  print(\"最高分數: \", highest_grade)\n",
        "  print(\"平均分數: \", average_grade)\n",
        "\n",
        "  #4: 根據平均分數列印評論\n",
        "  if average_grade > 100:\n",
        "    print(\"評論：你的成績有問題\")\n",
        "  elif average_grade == 100:\n",
        "    print(\"評論：滿分\")\n",
        "  elif average_grade >= 90:\n",
        "    print(\"評論：優等\")\n",
        "  elif average_grade >= 60:\n",
        "    print(\"評論：及格\")\n",
        "  else:\n",
        "    print(\"評論：加油\")\n",
        "\n",
        "  #5: 添加分隔線並完成迴圈\n",
        "  print('====')"
      ],
      "metadata": {
        "colab": {
          "base_uri": "https://localhost:8080/"
        },
        "id": "0JcCcJOK3CpB",
        "outputId": "e7f4e4de-8b30-45e0-c2f0-cdc2f3d3d020"
      },
      "execution_count": 5,
      "outputs": [
        {
          "output_type": "stream",
          "name": "stdout",
          "text": [
            "姓名:  Richard\n",
            "最低分數:  -1\n",
            "最高分數:  60\n",
            "平均分數:  26.0\n",
            "評論：加油\n",
            "====\n",
            "姓名:  Una\n",
            "最低分數:  99\n",
            "最高分數:  101\n",
            "平均分數:  100.0\n",
            "評論：滿分\n",
            "====\n",
            "姓名:  Linda\n",
            "最低分數:  99\n",
            "最高分數:  100\n",
            "平均分數:  99.5\n",
            "評論：優等\n",
            "====\n",
            "姓名:  Shu-Kai\n",
            "最低分數:  1000\n",
            "最高分數:  1000\n",
            "平均分數:  1000.0\n",
            "評論：你的成績有問題\n",
            "====\n"
          ]
        }
      ]
    },
    {
      "cell_type": "code",
      "source": [
        "#1: 創建列表\n",
        "ta_list = [\"Richard\", \"Una\", \"Linda\", \"Amy\", \"Joanne\", \"Mia\", \"Irene\", \"Amber\"]\n",
        "vip_list = [\"Shu-Kai\"]\n",
        "people = [\"Bob\", \"Alice\", \"Richard\", \"Bruce\", \"Shu-Kai\", \"Amy\", \"Una\", \"Eva\", \"Edward\", \"Joanne\", \"Linda\", \"Mia\", \"Irene\", \"Amber\"]\n",
        "\n",
        "#2: 創建空列表和變數\n",
        "ta_lounge = []\n",
        "secret_lounge = []\n",
        "max_people = 4\n",
        "\n",
        "#3: 使用 for 迴圈進行篩選和分配\n",
        "for name in people:\n",
        "  if name in ta_list:\n",
        "    if len(ta_lounge) >= max_people:\n",
        "      break\n",
        "    else:\n",
        "      ta_lounge.append(name)\n",
        "  elif name in vip_list:\n",
        "    secret_lounge.append(name)\n",
        "  else:\n",
        "    pass\n",
        "\n",
        "#4: 列印結果\n",
        "print(\"TA Lounge:\", ta_lounge)\n",
        "print(\"Secret Lounge:\", secret_lounge)\n"
      ],
      "metadata": {
        "colab": {
          "base_uri": "https://localhost:8080/"
        },
        "id": "79EYjM7s9yVI",
        "outputId": "fca05048-ec6a-45a0-e218-a0b9f685b0b6"
      },
      "execution_count": 30,
      "outputs": [
        {
          "output_type": "stream",
          "name": "stdout",
          "text": [
            "TA Lounge: ['Richard', 'Amy', 'Una', 'Joanne']\n",
            "Secret Lounge: ['Shu-Kai']\n"
          ]
        }
      ]
    },
    {
      "cell_type": "code",
      "source": [
        "#1: 創建列表\n",
        "ta_list = [\"Richard\", \"Una\", \"Linda\", \"Amy\", \"Joanne\", \"Mia\", \"Irene\", \"Amber\"]\n",
        "vip_list = [\"Shu-Kai\"]\n",
        "people = [\"Bob\", \"Alice\", \"Richard\", \"Bruce\", \"Amy\", \"Una\", \"Eva\", \"Edward\", \"Joanne\", \"Linda\", \"Shu-Kai\", \"Mia\", \"Irene\", \"Amber\"]\n",
        "\n",
        "#2: 創建空列表和變數\n",
        "ta_lounge = []\n",
        "secret_lounge = []\n",
        "max_people = 4\n",
        "idx = 0\n",
        "\n",
        "#3: 使用迴圈進行篩選和分配\n",
        "while idx < len(people):\n",
        "    name = people[idx]\n",
        "    if name not in ta_list and name not in vip_list:\n",
        "        pass\n",
        "    elif len(name) > 6:\n",
        "        pass\n",
        "    elif name in vip_list:\n",
        "        secret_lounge.append(name)\n",
        "    elif len(ta_lounge) < max_people:\n",
        "        ta_lounge.append(name)\n",
        "    idx += 1\n",
        "\n",
        "#4: 列印結果\n",
        "print(\"TA Lounge:\", ta_lounge)\n",
        "print(\"Secret Lounge:\", secret_lounge)\n"
      ],
      "metadata": {
        "colab": {
          "base_uri": "https://localhost:8080/"
        },
        "id": "8JMLUqvtBgkR",
        "outputId": "4d63741d-8646-459f-c313-73c7814a87ad"
      },
      "execution_count": 23,
      "outputs": [
        {
          "output_type": "stream",
          "name": "stdout",
          "text": [
            "TA Lounge: ['Amy', 'Una', 'Joanne', 'Linda']\n",
            "Secret Lounge: []\n"
          ]
        }
      ]
    },
    {
      "cell_type": "code",
      "source": [
        "#1: 創建列表\n",
        "ta_list = [\"Richard\", \"Una\", \"Linda\", \"Amy\", \"Joanne\", \"Mia\", \"Irene\", \"Amber\"]\n",
        "vip_list = [\"Shu-Kai\", \"Wen-Chang Chen\", \"Ing-Wen Tsai\"]\n",
        "people = [\"Bob\", \"Alice\", \"Richard\", \"Bruce\", \"Shu-Kai\", \"Amy\", \"Ing-Wen Tsai\", \"Una\", \"Eva\", \"Edward\", \"Joanne\", \"Linda\", \"Mia\", \"Irene\", \"Amber\", \"Wen-Chang Chen\"]\n",
        "\n",
        "#2: 創建空列表和變數\n",
        "ta_lounge = []\n",
        "secret_lounge = []\n",
        "max_people = 4\n",
        "vip_should_in_secret = set(vip_list) and set(people)\n",
        "\n",
        "#3: 使用 for 迴圈進行篩選和分配\n",
        "for name in people:\n",
        "  if name in ta_list:\n",
        "    if len(ta_lounge) >= max_people:\n",
        "      if len(vip_should_in_secret) == len(secret_lounge):\n",
        "        break\n",
        "    else:\n",
        "      ta_lounge.append(name)\n",
        "  elif name in vip_list:\n",
        "    secret_lounge.append(name)\n",
        "  else:\n",
        "    pass\n",
        "\n",
        "#4: 列印結果\n",
        "print(\"TA Lounge:\", ta_lounge)\n",
        "print(\"Secret Lounge:\", secret_lounge)\n"
      ],
      "metadata": {
        "colab": {
          "base_uri": "https://localhost:8080/"
        },
        "id": "m_QyoozqK0Ff",
        "outputId": "7b41db23-cff5-4ae8-c523-5bcfaaf0c0cc"
      },
      "execution_count": 32,
      "outputs": [
        {
          "output_type": "stream",
          "name": "stdout",
          "text": [
            "TA Lounge: ['Richard', 'Amy', 'Una', 'Joanne']\n",
            "Secret Lounge: ['Shu-Kai', 'Ing-Wen Tsai', 'Wen-Chang Chen']\n"
          ]
        }
      ]
    }
  ]
}